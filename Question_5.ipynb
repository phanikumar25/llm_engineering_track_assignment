{
 "cells": [
  {
   "cell_type": "code",
   "execution_count": 1,
   "metadata": {},
   "outputs": [
    {
     "name": "stdout",
     "output_type": "stream",
     "text": [
      "Collecting langchain_chromaNote: you may need to restart the kernel to use updated packages.\n",
      "\n",
      "  Downloading langchain_chroma-0.1.1-py3-none-any.whl.metadata (1.3 kB)\n",
      "Requirement already satisfied: chromadb<0.6.0,>=0.4.0 in c:\\users\\phani.vedurumudi\\genai_projects\\llm_engineer_track_lab\\llmengenv\\lib\\site-packages (from langchain_chroma) (0.5.0)\n",
      "Requirement already satisfied: fastapi<1,>=0.95.2 in c:\\users\\phani.vedurumudi\\genai_projects\\llm_engineer_track_lab\\llmengenv\\lib\\site-packages (from langchain_chroma) (0.111.0)\n",
      "Requirement already satisfied: langchain-core<0.3,>=0.1.40 in c:\\users\\phani.vedurumudi\\genai_projects\\llm_engineer_track_lab\\llmengenv\\lib\\site-packages (from langchain_chroma) (0.2.1)\n",
      "Requirement already satisfied: numpy<2,>=1 in c:\\users\\phani.vedurumudi\\genai_projects\\llm_engineer_track_lab\\llmengenv\\lib\\site-packages (from langchain_chroma) (1.24.4)\n",
      "Requirement already satisfied: build>=1.0.3 in c:\\users\\phani.vedurumudi\\genai_projects\\llm_engineer_track_lab\\llmengenv\\lib\\site-packages (from chromadb<0.6.0,>=0.4.0->langchain_chroma) (1.2.1)\n",
      "Requirement already satisfied: requests>=2.28 in c:\\users\\phani.vedurumudi\\genai_projects\\llm_engineer_track_lab\\llmengenv\\lib\\site-packages (from chromadb<0.6.0,>=0.4.0->langchain_chroma) (2.32.2)\n",
      "Requirement already satisfied: pydantic>=1.9 in c:\\users\\phani.vedurumudi\\genai_projects\\llm_engineer_track_lab\\llmengenv\\lib\\site-packages (from chromadb<0.6.0,>=0.4.0->langchain_chroma) (2.7.1)\n",
      "Requirement already satisfied: chroma-hnswlib==0.7.3 in c:\\users\\phani.vedurumudi\\genai_projects\\llm_engineer_track_lab\\llmengenv\\lib\\site-packages (from chromadb<0.6.0,>=0.4.0->langchain_chroma) (0.7.3)\n",
      "Requirement already satisfied: uvicorn>=0.18.3 in c:\\users\\phani.vedurumudi\\genai_projects\\llm_engineer_track_lab\\llmengenv\\lib\\site-packages (from uvicorn[standard]>=0.18.3->chromadb<0.6.0,>=0.4.0->langchain_chroma) (0.29.0)\n",
      "Requirement already satisfied: posthog>=2.4.0 in c:\\users\\phani.vedurumudi\\genai_projects\\llm_engineer_track_lab\\llmengenv\\lib\\site-packages (from chromadb<0.6.0,>=0.4.0->langchain_chroma) (3.5.0)\n",
      "Requirement already satisfied: typing-extensions>=4.5.0 in c:\\users\\phani.vedurumudi\\genai_projects\\llm_engineer_track_lab\\llmengenv\\lib\\site-packages (from chromadb<0.6.0,>=0.4.0->langchain_chroma) (4.11.0)\n",
      "Requirement already satisfied: onnxruntime>=1.14.1 in c:\\users\\phani.vedurumudi\\genai_projects\\llm_engineer_track_lab\\llmengenv\\lib\\site-packages (from chromadb<0.6.0,>=0.4.0->langchain_chroma) (1.18.0)\n",
      "Requirement already satisfied: opentelemetry-api>=1.2.0 in c:\\users\\phani.vedurumudi\\genai_projects\\llm_engineer_track_lab\\llmengenv\\lib\\site-packages (from chromadb<0.6.0,>=0.4.0->langchain_chroma) (1.24.0)\n",
      "Requirement already satisfied: opentelemetry-exporter-otlp-proto-grpc>=1.2.0 in c:\\users\\phani.vedurumudi\\genai_projects\\llm_engineer_track_lab\\llmengenv\\lib\\site-packages (from chromadb<0.6.0,>=0.4.0->langchain_chroma) (1.24.0)\n",
      "Requirement already satisfied: opentelemetry-instrumentation-fastapi>=0.41b0 in c:\\users\\phani.vedurumudi\\genai_projects\\llm_engineer_track_lab\\llmengenv\\lib\\site-packages (from chromadb<0.6.0,>=0.4.0->langchain_chroma) (0.45b0)\n",
      "Requirement already satisfied: opentelemetry-sdk>=1.2.0 in c:\\users\\phani.vedurumudi\\genai_projects\\llm_engineer_track_lab\\llmengenv\\lib\\site-packages (from chromadb<0.6.0,>=0.4.0->langchain_chroma) (1.24.0)\n",
      "Requirement already satisfied: tokenizers>=0.13.2 in c:\\users\\phani.vedurumudi\\genai_projects\\llm_engineer_track_lab\\llmengenv\\lib\\site-packages (from chromadb<0.6.0,>=0.4.0->langchain_chroma) (0.19.1)\n",
      "Requirement already satisfied: pypika>=0.48.9 in c:\\users\\phani.vedurumudi\\genai_projects\\llm_engineer_track_lab\\llmengenv\\lib\\site-packages (from chromadb<0.6.0,>=0.4.0->langchain_chroma) (0.48.9)\n",
      "Requirement already satisfied: tqdm>=4.65.0 in c:\\users\\phani.vedurumudi\\genai_projects\\llm_engineer_track_lab\\llmengenv\\lib\\site-packages (from chromadb<0.6.0,>=0.4.0->langchain_chroma) (4.66.4)\n",
      "Requirement already satisfied: overrides>=7.3.1 in c:\\users\\phani.vedurumudi\\genai_projects\\llm_engineer_track_lab\\llmengenv\\lib\\site-packages (from chromadb<0.6.0,>=0.4.0->langchain_chroma) (7.7.0)\n",
      "Requirement already satisfied: importlib-resources in c:\\users\\phani.vedurumudi\\genai_projects\\llm_engineer_track_lab\\llmengenv\\lib\\site-packages (from chromadb<0.6.0,>=0.4.0->langchain_chroma) (5.7.1)\n",
      "Requirement already satisfied: grpcio>=1.58.0 in c:\\users\\phani.vedurumudi\\genai_projects\\llm_engineer_track_lab\\llmengenv\\lib\\site-packages (from chromadb<0.6.0,>=0.4.0->langchain_chroma) (1.64.0)\n",
      "Requirement already satisfied: bcrypt>=4.0.1 in c:\\users\\phani.vedurumudi\\genai_projects\\llm_engineer_track_lab\\llmengenv\\lib\\site-packages (from chromadb<0.6.0,>=0.4.0->langchain_chroma) (4.1.3)\n",
      "Requirement already satisfied: typer>=0.9.0 in c:\\users\\phani.vedurumudi\\genai_projects\\llm_engineer_track_lab\\llmengenv\\lib\\site-packages (from chromadb<0.6.0,>=0.4.0->langchain_chroma) (0.12.3)\n",
      "Requirement already satisfied: kubernetes>=28.1.0 in c:\\users\\phani.vedurumudi\\genai_projects\\llm_engineer_track_lab\\llmengenv\\lib\\site-packages (from chromadb<0.6.0,>=0.4.0->langchain_chroma) (29.0.0)\n",
      "Requirement already satisfied: tenacity>=8.2.3 in c:\\users\\phani.vedurumudi\\genai_projects\\llm_engineer_track_lab\\llmengenv\\lib\\site-packages (from chromadb<0.6.0,>=0.4.0->langchain_chroma) (8.3.0)\n",
      "Requirement already satisfied: PyYAML>=6.0.0 in c:\\users\\phani.vedurumudi\\genai_projects\\llm_engineer_track_lab\\llmengenv\\lib\\site-packages (from chromadb<0.6.0,>=0.4.0->langchain_chroma) (6.0.1)\n",
      "Requirement already satisfied: mmh3>=4.0.1 in c:\\users\\phani.vedurumudi\\genai_projects\\llm_engineer_track_lab\\llmengenv\\lib\\site-packages (from chromadb<0.6.0,>=0.4.0->langchain_chroma) (4.1.0)\n",
      "Requirement already satisfied: orjson>=3.9.12 in c:\\users\\phani.vedurumudi\\genai_projects\\llm_engineer_track_lab\\llmengenv\\lib\\site-packages (from chromadb<0.6.0,>=0.4.0->langchain_chroma) (3.10.3)\n",
      "Requirement already satisfied: starlette<0.38.0,>=0.37.2 in c:\\users\\phani.vedurumudi\\genai_projects\\llm_engineer_track_lab\\llmengenv\\lib\\site-packages (from fastapi<1,>=0.95.2->langchain_chroma) (0.37.2)\n",
      "Requirement already satisfied: fastapi-cli>=0.0.2 in c:\\users\\phani.vedurumudi\\genai_projects\\llm_engineer_track_lab\\llmengenv\\lib\\site-packages (from fastapi<1,>=0.95.2->langchain_chroma) (0.0.4)\n",
      "Requirement already satisfied: httpx>=0.23.0 in c:\\users\\phani.vedurumudi\\genai_projects\\llm_engineer_track_lab\\llmengenv\\lib\\site-packages (from fastapi<1,>=0.95.2->langchain_chroma) (0.23.3)\n",
      "Requirement already satisfied: jinja2>=2.11.2 in c:\\users\\phani.vedurumudi\\genai_projects\\llm_engineer_track_lab\\llmengenv\\lib\\site-packages (from fastapi<1,>=0.95.2->langchain_chroma) (3.1.4)\n",
      "Requirement already satisfied: python-multipart>=0.0.7 in c:\\users\\phani.vedurumudi\\genai_projects\\llm_engineer_track_lab\\llmengenv\\lib\\site-packages (from fastapi<1,>=0.95.2->langchain_chroma) (0.0.9)\n",
      "Requirement already satisfied: ujson!=4.0.2,!=4.1.0,!=4.2.0,!=4.3.0,!=5.0.0,!=5.1.0,>=4.0.1 in c:\\users\\phani.vedurumudi\\genai_projects\\llm_engineer_track_lab\\llmengenv\\lib\\site-packages (from fastapi<1,>=0.95.2->langchain_chroma) (5.10.0)\n",
      "Requirement already satisfied: email_validator>=2.0.0 in c:\\users\\phani.vedurumudi\\genai_projects\\llm_engineer_track_lab\\llmengenv\\lib\\site-packages (from fastapi<1,>=0.95.2->langchain_chroma) (2.1.1)\n",
      "Requirement already satisfied: jsonpatch<2.0,>=1.33 in c:\\users\\phani.vedurumudi\\genai_projects\\llm_engineer_track_lab\\llmengenv\\lib\\site-packages (from langchain-core<0.3,>=0.1.40->langchain_chroma) (1.33)\n",
      "Requirement already satisfied: langsmith<0.2.0,>=0.1.0 in c:\\users\\phani.vedurumudi\\genai_projects\\llm_engineer_track_lab\\llmengenv\\lib\\site-packages (from langchain-core<0.3,>=0.1.40->langchain_chroma) (0.1.62)\n",
      "Requirement already satisfied: packaging<24.0,>=23.2 in c:\\users\\phani.vedurumudi\\genai_projects\\llm_engineer_track_lab\\llmengenv\\lib\\site-packages (from langchain-core<0.3,>=0.1.40->langchain_chroma) (23.2)\n",
      "Requirement already satisfied: pyproject_hooks in c:\\users\\phani.vedurumudi\\genai_projects\\llm_engineer_track_lab\\llmengenv\\lib\\site-packages (from build>=1.0.3->chromadb<0.6.0,>=0.4.0->langchain_chroma) (1.1.0)\n",
      "Requirement already satisfied: colorama in c:\\users\\phani.vedurumudi\\genai_projects\\llm_engineer_track_lab\\llmengenv\\lib\\site-packages (from build>=1.0.3->chromadb<0.6.0,>=0.4.0->langchain_chroma) (0.4.6)\n",
      "Requirement already satisfied: dnspython>=2.0.0 in c:\\users\\phani.vedurumudi\\genai_projects\\llm_engineer_track_lab\\llmengenv\\lib\\site-packages (from email_validator>=2.0.0->fastapi<1,>=0.95.2->langchain_chroma) (2.6.1)\n",
      "Requirement already satisfied: idna>=2.0.0 in c:\\users\\phani.vedurumudi\\genai_projects\\llm_engineer_track_lab\\llmengenv\\lib\\site-packages (from email_validator>=2.0.0->fastapi<1,>=0.95.2->langchain_chroma) (3.7)\n",
      "Requirement already satisfied: certifi in c:\\users\\phani.vedurumudi\\genai_projects\\llm_engineer_track_lab\\llmengenv\\lib\\site-packages (from httpx>=0.23.0->fastapi<1,>=0.95.2->langchain_chroma) (2024.2.2)\n",
      "Requirement already satisfied: httpcore<0.17.0,>=0.15.0 in c:\\users\\phani.vedurumudi\\genai_projects\\llm_engineer_track_lab\\llmengenv\\lib\\site-packages (from httpx>=0.23.0->fastapi<1,>=0.95.2->langchain_chroma) (0.16.3)\n",
      "Requirement already satisfied: rfc3986<2,>=1.3 in c:\\users\\phani.vedurumudi\\genai_projects\\llm_engineer_track_lab\\llmengenv\\lib\\site-packages (from rfc3986[idna2008]<2,>=1.3->httpx>=0.23.0->fastapi<1,>=0.95.2->langchain_chroma) (1.5.0)\n",
      "Requirement already satisfied: sniffio in c:\\users\\phani.vedurumudi\\genai_projects\\llm_engineer_track_lab\\llmengenv\\lib\\site-packages (from httpx>=0.23.0->fastapi<1,>=0.95.2->langchain_chroma) (1.3.1)\n",
      "Requirement already satisfied: MarkupSafe>=2.0 in c:\\users\\phani.vedurumudi\\genai_projects\\llm_engineer_track_lab\\llmengenv\\lib\\site-packages (from jinja2>=2.11.2->fastapi<1,>=0.95.2->langchain_chroma) (2.1.5)\n",
      "Requirement already satisfied: jsonpointer>=1.9 in c:\\users\\phani.vedurumudi\\genai_projects\\llm_engineer_track_lab\\llmengenv\\lib\\site-packages (from jsonpatch<2.0,>=1.33->langchain-core<0.3,>=0.1.40->langchain_chroma) (2.4)\n",
      "Requirement already satisfied: six>=1.9.0 in c:\\users\\phani.vedurumudi\\genai_projects\\llm_engineer_track_lab\\llmengenv\\lib\\site-packages (from kubernetes>=28.1.0->chromadb<0.6.0,>=0.4.0->langchain_chroma) (1.16.0)\n",
      "Requirement already satisfied: python-dateutil>=2.5.3 in c:\\users\\phani.vedurumudi\\genai_projects\\llm_engineer_track_lab\\llmengenv\\lib\\site-packages (from kubernetes>=28.1.0->chromadb<0.6.0,>=0.4.0->langchain_chroma) (2.9.0.post0)\n",
      "Requirement already satisfied: google-auth>=1.0.1 in c:\\users\\phani.vedurumudi\\genai_projects\\llm_engineer_track_lab\\llmengenv\\lib\\site-packages (from kubernetes>=28.1.0->chromadb<0.6.0,>=0.4.0->langchain_chroma) (2.29.0)\n",
      "Requirement already satisfied: websocket-client!=0.40.0,!=0.41.*,!=0.42.*,>=0.32.0 in c:\\users\\phani.vedurumudi\\genai_projects\\llm_engineer_track_lab\\llmengenv\\lib\\site-packages (from kubernetes>=28.1.0->chromadb<0.6.0,>=0.4.0->langchain_chroma) (1.8.0)\n",
      "Requirement already satisfied: requests-oauthlib in c:\\users\\phani.vedurumudi\\genai_projects\\llm_engineer_track_lab\\llmengenv\\lib\\site-packages (from kubernetes>=28.1.0->chromadb<0.6.0,>=0.4.0->langchain_chroma) (2.0.0)\n",
      "Requirement already satisfied: oauthlib>=3.2.2 in c:\\users\\phani.vedurumudi\\genai_projects\\llm_engineer_track_lab\\llmengenv\\lib\\site-packages (from kubernetes>=28.1.0->chromadb<0.6.0,>=0.4.0->langchain_chroma) (3.2.2)\n",
      "Requirement already satisfied: urllib3>=1.24.2 in c:\\users\\phani.vedurumudi\\genai_projects\\llm_engineer_track_lab\\llmengenv\\lib\\site-packages (from kubernetes>=28.1.0->chromadb<0.6.0,>=0.4.0->langchain_chroma) (2.2.1)\n",
      "Requirement already satisfied: coloredlogs in c:\\users\\phani.vedurumudi\\genai_projects\\llm_engineer_track_lab\\llmengenv\\lib\\site-packages (from onnxruntime>=1.14.1->chromadb<0.6.0,>=0.4.0->langchain_chroma) (15.0.1)\n",
      "Requirement already satisfied: flatbuffers in c:\\users\\phani.vedurumudi\\genai_projects\\llm_engineer_track_lab\\llmengenv\\lib\\site-packages (from onnxruntime>=1.14.1->chromadb<0.6.0,>=0.4.0->langchain_chroma) (24.3.25)\n",
      "Requirement already satisfied: protobuf in c:\\users\\phani.vedurumudi\\genai_projects\\llm_engineer_track_lab\\llmengenv\\lib\\site-packages (from onnxruntime>=1.14.1->chromadb<0.6.0,>=0.4.0->langchain_chroma) (4.25.3)\n",
      "Requirement already satisfied: sympy in c:\\users\\phani.vedurumudi\\genai_projects\\llm_engineer_track_lab\\llmengenv\\lib\\site-packages (from onnxruntime>=1.14.1->chromadb<0.6.0,>=0.4.0->langchain_chroma) (1.12)\n",
      "Requirement already satisfied: deprecated>=1.2.6 in c:\\users\\phani.vedurumudi\\genai_projects\\llm_engineer_track_lab\\llmengenv\\lib\\site-packages (from opentelemetry-api>=1.2.0->chromadb<0.6.0,>=0.4.0->langchain_chroma) (1.2.14)\n",
      "Requirement already satisfied: importlib-metadata<=7.0,>=6.0 in c:\\users\\phani.vedurumudi\\genai_projects\\llm_engineer_track_lab\\llmengenv\\lib\\site-packages (from opentelemetry-api>=1.2.0->chromadb<0.6.0,>=0.4.0->langchain_chroma) (7.0.0)\n",
      "Requirement already satisfied: googleapis-common-protos~=1.52 in c:\\users\\phani.vedurumudi\\genai_projects\\llm_engineer_track_lab\\llmengenv\\lib\\site-packages (from opentelemetry-exporter-otlp-proto-grpc>=1.2.0->chromadb<0.6.0,>=0.4.0->langchain_chroma) (1.63.0)\n",
      "Requirement already satisfied: opentelemetry-exporter-otlp-proto-common==1.24.0 in c:\\users\\phani.vedurumudi\\genai_projects\\llm_engineer_track_lab\\llmengenv\\lib\\site-packages (from opentelemetry-exporter-otlp-proto-grpc>=1.2.0->chromadb<0.6.0,>=0.4.0->langchain_chroma) (1.24.0)\n",
      "Requirement already satisfied: opentelemetry-proto==1.24.0 in c:\\users\\phani.vedurumudi\\genai_projects\\llm_engineer_track_lab\\llmengenv\\lib\\site-packages (from opentelemetry-exporter-otlp-proto-grpc>=1.2.0->chromadb<0.6.0,>=0.4.0->langchain_chroma) (1.24.0)\n",
      "Requirement already satisfied: opentelemetry-instrumentation-asgi==0.45b0 in c:\\users\\phani.vedurumudi\\genai_projects\\llm_engineer_track_lab\\llmengenv\\lib\\site-packages (from opentelemetry-instrumentation-fastapi>=0.41b0->chromadb<0.6.0,>=0.4.0->langchain_chroma) (0.45b0)\n",
      "Requirement already satisfied: opentelemetry-instrumentation==0.45b0 in c:\\users\\phani.vedurumudi\\genai_projects\\llm_engineer_track_lab\\llmengenv\\lib\\site-packages (from opentelemetry-instrumentation-fastapi>=0.41b0->chromadb<0.6.0,>=0.4.0->langchain_chroma) (0.45b0)\n",
      "Requirement already satisfied: opentelemetry-semantic-conventions==0.45b0 in c:\\users\\phani.vedurumudi\\genai_projects\\llm_engineer_track_lab\\llmengenv\\lib\\site-packages (from opentelemetry-instrumentation-fastapi>=0.41b0->chromadb<0.6.0,>=0.4.0->langchain_chroma) (0.45b0)\n",
      "Requirement already satisfied: opentelemetry-util-http==0.45b0 in c:\\users\\phani.vedurumudi\\genai_projects\\llm_engineer_track_lab\\llmengenv\\lib\\site-packages (from opentelemetry-instrumentation-fastapi>=0.41b0->chromadb<0.6.0,>=0.4.0->langchain_chroma) (0.45b0)\n",
      "Requirement already satisfied: setuptools>=16.0 in c:\\users\\phani.vedurumudi\\genai_projects\\llm_engineer_track_lab\\llmengenv\\lib\\site-packages (from opentelemetry-instrumentation==0.45b0->opentelemetry-instrumentation-fastapi>=0.41b0->chromadb<0.6.0,>=0.4.0->langchain_chroma) (65.5.0)\n",
      "Requirement already satisfied: wrapt<2.0.0,>=1.0.0 in c:\\users\\phani.vedurumudi\\genai_projects\\llm_engineer_track_lab\\llmengenv\\lib\\site-packages (from opentelemetry-instrumentation==0.45b0->opentelemetry-instrumentation-fastapi>=0.41b0->chromadb<0.6.0,>=0.4.0->langchain_chroma) (1.16.0)\n",
      "Requirement already satisfied: asgiref~=3.0 in c:\\users\\phani.vedurumudi\\genai_projects\\llm_engineer_track_lab\\llmengenv\\lib\\site-packages (from opentelemetry-instrumentation-asgi==0.45b0->opentelemetry-instrumentation-fastapi>=0.41b0->chromadb<0.6.0,>=0.4.0->langchain_chroma) (3.8.1)\n",
      "Requirement already satisfied: monotonic>=1.5 in c:\\users\\phani.vedurumudi\\genai_projects\\llm_engineer_track_lab\\llmengenv\\lib\\site-packages (from posthog>=2.4.0->chromadb<0.6.0,>=0.4.0->langchain_chroma) (1.6)\n",
      "Requirement already satisfied: backoff>=1.10.0 in c:\\users\\phani.vedurumudi\\genai_projects\\llm_engineer_track_lab\\llmengenv\\lib\\site-packages (from posthog>=2.4.0->chromadb<0.6.0,>=0.4.0->langchain_chroma) (2.2.1)\n",
      "Requirement already satisfied: annotated-types>=0.4.0 in c:\\users\\phani.vedurumudi\\genai_projects\\llm_engineer_track_lab\\llmengenv\\lib\\site-packages (from pydantic>=1.9->chromadb<0.6.0,>=0.4.0->langchain_chroma) (0.7.0)\n",
      "Requirement already satisfied: pydantic-core==2.18.2 in c:\\users\\phani.vedurumudi\\genai_projects\\llm_engineer_track_lab\\llmengenv\\lib\\site-packages (from pydantic>=1.9->chromadb<0.6.0,>=0.4.0->langchain_chroma) (2.18.2)\n",
      "Requirement already satisfied: charset-normalizer<4,>=2 in c:\\users\\phani.vedurumudi\\genai_projects\\llm_engineer_track_lab\\llmengenv\\lib\\site-packages (from requests>=2.28->chromadb<0.6.0,>=0.4.0->langchain_chroma) (3.3.2)\n",
      "Requirement already satisfied: anyio<5,>=3.4.0 in c:\\users\\phani.vedurumudi\\genai_projects\\llm_engineer_track_lab\\llmengenv\\lib\\site-packages (from starlette<0.38.0,>=0.37.2->fastapi<1,>=0.95.2->langchain_chroma) (4.3.0)\n",
      "Requirement already satisfied: huggingface-hub<1.0,>=0.16.4 in c:\\users\\phani.vedurumudi\\genai_projects\\llm_engineer_track_lab\\llmengenv\\lib\\site-packages (from tokenizers>=0.13.2->chromadb<0.6.0,>=0.4.0->langchain_chroma) (0.23.1)\n",
      "Requirement already satisfied: click>=8.0.0 in c:\\users\\phani.vedurumudi\\genai_projects\\llm_engineer_track_lab\\llmengenv\\lib\\site-packages (from typer>=0.9.0->chromadb<0.6.0,>=0.4.0->langchain_chroma) (8.1.7)\n",
      "Requirement already satisfied: shellingham>=1.3.0 in c:\\users\\phani.vedurumudi\\genai_projects\\llm_engineer_track_lab\\llmengenv\\lib\\site-packages (from typer>=0.9.0->chromadb<0.6.0,>=0.4.0->langchain_chroma) (1.5.4)\n",
      "Requirement already satisfied: rich>=10.11.0 in c:\\users\\phani.vedurumudi\\genai_projects\\llm_engineer_track_lab\\llmengenv\\lib\\site-packages (from typer>=0.9.0->chromadb<0.6.0,>=0.4.0->langchain_chroma) (13.7.1)\n",
      "Requirement already satisfied: h11>=0.8 in c:\\users\\phani.vedurumudi\\genai_projects\\llm_engineer_track_lab\\llmengenv\\lib\\site-packages (from uvicorn>=0.18.3->uvicorn[standard]>=0.18.3->chromadb<0.6.0,>=0.4.0->langchain_chroma) (0.14.0)\n",
      "Requirement already satisfied: httptools>=0.5.0 in c:\\users\\phani.vedurumudi\\genai_projects\\llm_engineer_track_lab\\llmengenv\\lib\\site-packages (from uvicorn[standard]>=0.18.3->chromadb<0.6.0,>=0.4.0->langchain_chroma) (0.6.1)\n",
      "Requirement already satisfied: python-dotenv>=0.13 in c:\\users\\phani.vedurumudi\\genai_projects\\llm_engineer_track_lab\\llmengenv\\lib\\site-packages (from uvicorn[standard]>=0.18.3->chromadb<0.6.0,>=0.4.0->langchain_chroma) (1.0.1)\n",
      "Requirement already satisfied: watchfiles>=0.13 in c:\\users\\phani.vedurumudi\\genai_projects\\llm_engineer_track_lab\\llmengenv\\lib\\site-packages (from uvicorn[standard]>=0.18.3->chromadb<0.6.0,>=0.4.0->langchain_chroma) (0.21.0)\n",
      "Requirement already satisfied: websockets>=10.4 in c:\\users\\phani.vedurumudi\\genai_projects\\llm_engineer_track_lab\\llmengenv\\lib\\site-packages (from uvicorn[standard]>=0.18.3->chromadb<0.6.0,>=0.4.0->langchain_chroma) (12.0)\n",
      "Requirement already satisfied: cachetools<6.0,>=2.0.0 in c:\\users\\phani.vedurumudi\\genai_projects\\llm_engineer_track_lab\\llmengenv\\lib\\site-packages (from google-auth>=1.0.1->kubernetes>=28.1.0->chromadb<0.6.0,>=0.4.0->langchain_chroma) (5.3.3)\n",
      "Requirement already satisfied: pyasn1-modules>=0.2.1 in c:\\users\\phani.vedurumudi\\genai_projects\\llm_engineer_track_lab\\llmengenv\\lib\\site-packages (from google-auth>=1.0.1->kubernetes>=28.1.0->chromadb<0.6.0,>=0.4.0->langchain_chroma) (0.4.0)\n",
      "Requirement already satisfied: rsa<5,>=3.1.4 in c:\\users\\phani.vedurumudi\\genai_projects\\llm_engineer_track_lab\\llmengenv\\lib\\site-packages (from google-auth>=1.0.1->kubernetes>=28.1.0->chromadb<0.6.0,>=0.4.0->langchain_chroma) (4.9)\n",
      "Requirement already satisfied: filelock in c:\\users\\phani.vedurumudi\\genai_projects\\llm_engineer_track_lab\\llmengenv\\lib\\site-packages (from huggingface-hub<1.0,>=0.16.4->tokenizers>=0.13.2->chromadb<0.6.0,>=0.4.0->langchain_chroma) (3.14.0)\n",
      "Requirement already satisfied: fsspec>=2023.5.0 in c:\\users\\phani.vedurumudi\\genai_projects\\llm_engineer_track_lab\\llmengenv\\lib\\site-packages (from huggingface-hub<1.0,>=0.16.4->tokenizers>=0.13.2->chromadb<0.6.0,>=0.4.0->langchain_chroma) (2024.3.1)\n",
      "Requirement already satisfied: zipp>=0.5 in c:\\users\\phani.vedurumudi\\genai_projects\\llm_engineer_track_lab\\llmengenv\\lib\\site-packages (from importlib-metadata<=7.0,>=6.0->opentelemetry-api>=1.2.0->chromadb<0.6.0,>=0.4.0->langchain_chroma) (3.18.2)\n",
      "Requirement already satisfied: markdown-it-py>=2.2.0 in c:\\users\\phani.vedurumudi\\genai_projects\\llm_engineer_track_lab\\llmengenv\\lib\\site-packages (from rich>=10.11.0->typer>=0.9.0->chromadb<0.6.0,>=0.4.0->langchain_chroma) (3.0.0)\n",
      "Requirement already satisfied: pygments<3.0.0,>=2.13.0 in c:\\users\\phani.vedurumudi\\genai_projects\\llm_engineer_track_lab\\llmengenv\\lib\\site-packages (from rich>=10.11.0->typer>=0.9.0->chromadb<0.6.0,>=0.4.0->langchain_chroma) (2.18.0)\n",
      "Requirement already satisfied: humanfriendly>=9.1 in c:\\users\\phani.vedurumudi\\genai_projects\\llm_engineer_track_lab\\llmengenv\\lib\\site-packages (from coloredlogs->onnxruntime>=1.14.1->chromadb<0.6.0,>=0.4.0->langchain_chroma) (10.0)\n",
      "Requirement already satisfied: mpmath>=0.19 in c:\\users\\phani.vedurumudi\\genai_projects\\llm_engineer_track_lab\\llmengenv\\lib\\site-packages (from sympy->onnxruntime>=1.14.1->chromadb<0.6.0,>=0.4.0->langchain_chroma) (1.3.0)\n",
      "Requirement already satisfied: pyreadline3 in c:\\users\\phani.vedurumudi\\genai_projects\\llm_engineer_track_lab\\llmengenv\\lib\\site-packages (from humanfriendly>=9.1->coloredlogs->onnxruntime>=1.14.1->chromadb<0.6.0,>=0.4.0->langchain_chroma) (3.4.1)\n",
      "Requirement already satisfied: mdurl~=0.1 in c:\\users\\phani.vedurumudi\\genai_projects\\llm_engineer_track_lab\\llmengenv\\lib\\site-packages (from markdown-it-py>=2.2.0->rich>=10.11.0->typer>=0.9.0->chromadb<0.6.0,>=0.4.0->langchain_chroma) (0.1.2)\n",
      "Requirement already satisfied: pyasn1<0.7.0,>=0.4.6 in c:\\users\\phani.vedurumudi\\genai_projects\\llm_engineer_track_lab\\llmengenv\\lib\\site-packages (from pyasn1-modules>=0.2.1->google-auth>=1.0.1->kubernetes>=28.1.0->chromadb<0.6.0,>=0.4.0->langchain_chroma) (0.6.0)\n",
      "Downloading langchain_chroma-0.1.1-py3-none-any.whl (8.5 kB)\n",
      "Installing collected packages: langchain_chroma\n",
      "Successfully installed langchain_chroma-0.1.1\n"
     ]
    }
   ],
   "source": [
    "%pip install langchain_chroma"
   ]
  },
  {
   "cell_type": "code",
   "execution_count": 2,
   "metadata": {},
   "outputs": [],
   "source": [
    "from langchain_chroma import Chroma\n",
    "from langchain_core.example_selectors import SemanticSimilarityExampleSelector\n",
    "from langchain_core.prompts import FewShotPromptTemplate, PromptTemplate\n",
    "from langchain_openai import OpenAIEmbeddings\n",
    "\n",
    "example_prompt = PromptTemplate(\n",
    "    input_variables=[\"input\", \"output\"],\n",
    "    template=\"Input: {input}\\nOutput: {output}\",\n",
    ")\n",
    "\n",
    "# Examples of a pretend task of creating antonyms.\n",
    "examples = [\n",
    "    {\"input\": \"happy\", \"output\": \"sad\"},\n",
    "    {\"input\": \"tall\", \"output\": \"short\"},\n",
    "    {\"input\": \"energetic\", \"output\": \"lethargic\"},\n",
    "    {\"input\": \"sunny\", \"output\": \"gloomy\"},\n",
    "    {\"input\": \"windy\", \"output\": \"calm\"},\n",
    "]"
   ]
  },
  {
   "cell_type": "code",
   "execution_count": 3,
   "metadata": {},
   "outputs": [],
   "source": [
    "from langchain_openai import AzureOpenAIEmbeddings\n",
    "\n",
    "embeddings = AzureOpenAIEmbeddings(\n",
    "    model=\"ADA_RAG_DONO_DEMO\",\n",
    "    api_key=\"534036f31d14400b9f07a2cd7680af25\",\n",
    "    api_version=\"2024-02-01\",\n",
    "    azure_endpoint=\"https://dono-rag-demo-resource-instance.openai.azure.com\"\n",
    ")"
   ]
  },
  {
   "cell_type": "code",
   "execution_count": 4,
   "metadata": {},
   "outputs": [],
   "source": [
    "example_selector = SemanticSimilarityExampleSelector.from_examples(\n",
    "    # The list of examples available to select from.\n",
    "    examples,\n",
    "    # The embedding class used to produce embeddings which are used to measure semantic similarity.\n",
    "    embeddings,\n",
    "    # The VectorStore class that is used to store the embeddings and do a similarity search over.\n",
    "    Chroma,\n",
    "    # The number of examples to produce.\n",
    "    k=1,\n",
    ")\n",
    "similar_prompt = FewShotPromptTemplate(\n",
    "    # We provide an ExampleSelector instead of examples.\n",
    "    example_selector=example_selector,\n",
    "    example_prompt=example_prompt,\n",
    "    prefix=\"Give the antonym of every input\",\n",
    "    suffix=\"Input: {adjective}\\nOutput:\",\n",
    "    input_variables=[\"adjective\"],\n",
    ")"
   ]
  },
  {
   "cell_type": "code",
   "execution_count": 5,
   "metadata": {},
   "outputs": [
    {
     "name": "stdout",
     "output_type": "stream",
     "text": [
      "Give the antonym of every input\n",
      "\n",
      "Input: happy\n",
      "Output: sad\n",
      "\n",
      "Input: worried\n",
      "Output:\n"
     ]
    }
   ],
   "source": [
    "# Input is a feeling, so should select the happy/sad example\n",
    "print(similar_prompt.format(adjective=\"worried\"))"
   ]
  },
  {
   "cell_type": "code",
   "execution_count": 6,
   "metadata": {},
   "outputs": [
    {
     "name": "stdout",
     "output_type": "stream",
     "text": [
      "Give the antonym of every input\n",
      "\n",
      "Input: tall\n",
      "Output: short\n",
      "\n",
      "Input: large\n",
      "Output:\n"
     ]
    }
   ],
   "source": [
    "# Input is a measurement, so should select the tall/short example\n",
    "print(similar_prompt.format(adjective=\"large\"))"
   ]
  },
  {
   "cell_type": "code",
   "execution_count": 7,
   "metadata": {},
   "outputs": [
    {
     "name": "stdout",
     "output_type": "stream",
     "text": [
      "Give the antonym of every input\n",
      "\n",
      "Input: enthusiastic\n",
      "Output: apathetic\n",
      "\n",
      "Input: passionate\n",
      "Output:\n"
     ]
    }
   ],
   "source": [
    "# You can add new examples to the SemanticSimilarityExampleSelector as well\n",
    "similar_prompt.example_selector.add_example(\n",
    "    {\"input\": \"enthusiastic\", \"output\": \"apathetic\"}\n",
    ")\n",
    "print(similar_prompt.format(adjective=\"passionate\"))"
   ]
  }
 ],
 "metadata": {
  "kernelspec": {
   "display_name": "llmengenv",
   "language": "python",
   "name": "python3"
  },
  "language_info": {
   "codemirror_mode": {
    "name": "ipython",
    "version": 3
   },
   "file_extension": ".py",
   "mimetype": "text/x-python",
   "name": "python",
   "nbconvert_exporter": "python",
   "pygments_lexer": "ipython3",
   "version": "3.11.4"
  }
 },
 "nbformat": 4,
 "nbformat_minor": 2
}
