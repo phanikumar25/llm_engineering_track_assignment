{
 "cells": [
  {
   "cell_type": "code",
   "execution_count": 1,
   "metadata": {},
   "outputs": [],
   "source": [
    "from langchain_openai import AzureChatOpenAI\n",
    "from langchain.prompts import PromptTemplate\n",
    "from langchain.output_parsers import XMLOutputParser"
   ]
  },
  {
   "cell_type": "code",
   "execution_count": 2,
   "metadata": {},
   "outputs": [],
   "source": [
    "azure_config = {\n",
    "# enter credentials here\n",
    "    }\n",
    "\n",
    "llm = AzureChatOpenAI(temperature=0.1,\n",
    "                      api_key=azure_config[\"api-key\"],\n",
    "                      openai_api_version=azure_config[\"api_version\"],\n",
    "                      azure_endpoint=azure_config[\"base_url\"],\n",
    "                      model=azure_config[\"model_deployment\"],\n",
    "                      validate_base_url=False)\n",
    "\n",
    "parser = XMLOutputParser()\n",
    "prompt = PromptTemplate(\n",
    "    template=\"\"\"{query}\\n{format_instructions}\"\"\",\n",
    "    input_variables=[\"query\"],\n",
    "    partial_variables={\"format_instructions\": parser.get_format_instructions()},\n",
    ")\n",
    "\n",
    "chain = prompt|llm|parser"
   ]
  },
  {
   "cell_type": "code",
   "execution_count": 3,
   "metadata": {},
   "outputs": [
    {
     "data": {
      "text/plain": [
       "{'icc_tournaments': [{'tournament': [{'name': 'ICC KnockOut'},\n",
       "    {'host_nation': 'Kenya'},\n",
       "    {'format': 'ODI'},\n",
       "    {'year': '2000'},\n",
       "    {'winner': 'New Zealand'}]},\n",
       "  {'tournament': [{'name': 'ICC Champions Trophy'},\n",
       "    {'host_nation': 'Kenya'},\n",
       "    {'format': 'ODI'},\n",
       "    {'year': '2002'},\n",
       "    {'winner': 'India'}]},\n",
       "  {'tournament': [{'name': 'ICC Cricket World Cup'},\n",
       "    {'host_nation': 'South Africa'},\n",
       "    {'format': 'ODI'},\n",
       "    {'year': '2003'},\n",
       "    {'winner': 'Australia'}]},\n",
       "  {'tournament': [{'name': 'ICC Champions Trophy'},\n",
       "    {'host_nation': 'England'},\n",
       "    {'format': 'ODI'},\n",
       "    {'year': '2004'},\n",
       "    {'winner': 'West Indies'}]},\n",
       "  {'tournament': [{'name': 'ICC Cricket World Cup'},\n",
       "    {'host_nation': 'West Indies'},\n",
       "    {'format': 'ODI'},\n",
       "    {'year': '2007'},\n",
       "    {'winner': 'Australia'}]},\n",
       "  {'tournament': [{'name': 'ICC World Twenty20'},\n",
       "    {'host_nation': 'South Africa'},\n",
       "    {'format': 'T20'},\n",
       "    {'year': '2007'},\n",
       "    {'winner': 'India'}]},\n",
       "  {'tournament': [{'name': 'ICC Champions Trophy'},\n",
       "    {'host_nation': 'South Africa'},\n",
       "    {'format': 'ODI'},\n",
       "    {'year': '2009'},\n",
       "    {'winner': 'Australia'}]},\n",
       "  {'tournament': [{'name': 'ICC Cricket World Cup'},\n",
       "    {'host_nation': 'India, Sri Lanka, Bangladesh'},\n",
       "    {'format': 'ODI'},\n",
       "    {'year': '2011'},\n",
       "    {'winner': 'India'}]},\n",
       "  {'tournament': [{'name': 'ICC Champions Trophy'},\n",
       "    {'host_nation': 'England'},\n",
       "    {'format': 'ODI'},\n",
       "    {'year': '2013'},\n",
       "    {'winner': 'India'}]},\n",
       "  {'tournament': [{'name': 'ICC Cricket World Cup'},\n",
       "    {'host_nation': 'Australia, New Zealand'},\n",
       "    {'format': 'ODI'},\n",
       "    {'year': '2015'},\n",
       "    {'winner': 'Australia'}]},\n",
       "  {'tournament': [{'name': 'ICC World Twenty20'},\n",
       "    {'host_nation': 'India'},\n",
       "    {'format': 'T20'},\n",
       "    {'year': '2016'},\n",
       "    {'winner': 'West Indies'}]},\n",
       "  {'tournament': [{'name': 'ICC Champions Trophy'},\n",
       "    {'host_nation': 'England'},\n",
       "    {'format': 'ODI'},\n",
       "    {'year': '2017'},\n",
       "    {'winner': 'Pakistan'}]},\n",
       "  {'tournament': [{'name': 'ICC Cricket World Cup'},\n",
       "    {'host_nation': 'England'},\n",
       "    {'format': 'ODI'},\n",
       "    {'year': '2019'},\n",
       "    {'winner': 'England'}]},\n",
       "  {'tournament': [{'name': 'ICC World Twenty20'},\n",
       "    {'host_nation': 'Australia'},\n",
       "    {'format': 'T20'},\n",
       "    {'year': '2020'},\n",
       "    {'winner': 'TBD'}]},\n",
       "  {'tournament': [{'name': 'ICC Cricket World Cup'},\n",
       "    {'host_nation': 'India'},\n",
       "    {'format': 'ODI'},\n",
       "    {'year': '2023'},\n",
       "    {'winner': 'TBD'}]}]}"
      ]
     },
     "execution_count": 3,
     "metadata": {},
     "output_type": "execute_result"
    }
   ],
   "source": [
    "query = \"List the host nation,format and winners of all icc tournaments from 2000 to 2022\"\n",
    "response = chain.invoke(input={'query':query})\n",
    "response"
   ]
  }
 ],
 "metadata": {
  "kernelspec": {
   "display_name": "llmengenv",
   "language": "python",
   "name": "python3"
  },
  "language_info": {
   "codemirror_mode": {
    "name": "ipython",
    "version": 3
   },
   "file_extension": ".py",
   "mimetype": "text/x-python",
   "name": "python",
   "nbconvert_exporter": "python",
   "pygments_lexer": "ipython3",
   "version": "3.11.4"
  }
 },
 "nbformat": 4,
 "nbformat_minor": 2
}
