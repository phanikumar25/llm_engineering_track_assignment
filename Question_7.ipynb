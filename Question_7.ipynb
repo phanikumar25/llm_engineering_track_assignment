{
 "cells": [
  {
   "cell_type": "code",
   "execution_count": 14,
   "metadata": {},
   "outputs": [],
   "source": [
    "from typing import List\n",
    "\n",
    "from langchain_openai import AzureChatOpenAI\n",
    "from langchain.prompts import PromptTemplate\n",
    "from langchain_core.pydantic_v1 import BaseModel, Field\n",
    "from langchain.output_parsers import YamlOutputParser"
   ]
  },
  {
   "cell_type": "code",
   "execution_count": 15,
   "metadata": {},
   "outputs": [],
   "source": [
    "class Tournament(BaseModel):\n",
    "    name: str = Field(\"name of the icc tournament conducted\")\n",
    "    host_nation: str = Field(\"host nation of the icc tournament\")\n",
    "    format: str = Field(\"format of the icc tournament\")\n",
    "    year: int = Field(\"Year of conduction of the icc tournament\")\n",
    "    winner: str = Field(\"winner of the icc tournament\")\n",
    "    runner_up: str = Field(\"runner up of the icc tournament\")"
   ]
  },
  {
   "cell_type": "code",
   "execution_count": 16,
   "metadata": {},
   "outputs": [],
   "source": [
    "azure_config = {\n",
    "# enter credentials here\n",
    "    }\n",
    "\n",
    "llm = AzureChatOpenAI(temperature=0.1,\n",
    "                      api_key=azure_config[\"api-key\"],\n",
    "                      openai_api_version=azure_config[\"api_version\"],\n",
    "                      azure_endpoint=azure_config[\"base_url\"],\n",
    "                      model=azure_config[\"model_deployment\"],\n",
    "                      validate_base_url=False)\n",
    "\n",
    "parser = YamlOutputParser(pydantic_object=Tournament)\n",
    "prompt = PromptTemplate(\n",
    "    template=\"\"\"{query}\\n{format_instructions}\"\"\",\n",
    "    input_variables=[\"query\"],\n",
    "    partial_variables={\"format_instructions\": parser.get_format_instructions()},\n",
    ")\n",
    "\n",
    "chain = prompt|llm|parser"
   ]
  },
  {
   "cell_type": "code",
   "execution_count": 19,
   "metadata": {},
   "outputs": [
    {
     "data": {
      "text/plain": [
       "Tournament(name='ICC T20 World Cup 2007', host_nation='South Africa', format='T20', year=2007, winner='India', runner_up='Pakistan')"
      ]
     },
     "execution_count": 19,
     "metadata": {},
     "output_type": "execute_result"
    }
   ],
   "source": [
    "query = \"List the information about the icc t20 tournament conducted in 2007\"\n",
    "response = chain.invoke(input={'query':query})\n",
    "response"
   ]
  }
 ],
 "metadata": {
  "kernelspec": {
   "display_name": "llmengenv",
   "language": "python",
   "name": "python3"
  },
  "language_info": {
   "codemirror_mode": {
    "name": "ipython",
    "version": 3
   },
   "file_extension": ".py",
   "mimetype": "text/x-python",
   "name": "python",
   "nbconvert_exporter": "python",
   "pygments_lexer": "ipython3",
   "version": "3.11.4"
  }
 },
 "nbformat": 4,
 "nbformat_minor": 2
}
